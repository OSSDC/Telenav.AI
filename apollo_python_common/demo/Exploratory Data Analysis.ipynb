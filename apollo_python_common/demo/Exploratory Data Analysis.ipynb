{
 "cells": [
  {
   "cell_type": "code",
   "execution_count": null,
   "metadata": {},
   "outputs": [],
   "source": [
    "import os\n",
    "import sys\n",
    "import pandas as pd\n",
    "import matplotlib.pyplot as plt\n",
    "import PIL\n",
    "import cv2\n",
    "import numpy as np\n",
    "from glob import glob"
   ]
  },
  {
   "cell_type": "code",
   "execution_count": null,
   "metadata": {},
   "outputs": [],
   "source": [
    "CLASS_NAME_DICTCLASS_N  =  dict(\n",
    "              ((40,  'TURN_RESTRICTION_RIGHT_US'),\n",
    "               (41,  'TURN_RESTRICTION_U_TURN_US'),\n",
    "               (43,  'STOP_US'),\n",
    "               (123, 'TRAFFIC_LIGHTS_SIGN'),\n",
    "               (39,  'TURN_RESTRICTION_LEFT_US'),\n",
    "               (16,  'SPEED_LIMIT_5_US'), \n",
    "               (17,  'SPEED_LIMIT_10_US'), \n",
    "               (18,  'SPEED_LIMIT_15_US'), \n",
    "               (19,  'SPEED_LIMIT_20_US'), \n",
    "               (20,  'SPEED_LIMIT_25_US'),\n",
    "               (21,  'SPEED_LIMIT_30_US'), \n",
    "               (22,  'SPEED_LIMIT_35_US'), \n",
    "               (23,  'SPEED_LIMIT_40_US'), \n",
    "               (24,  'SPEED_LIMIT_45_US'), \n",
    "               (25,  'SPEED_LIMIT_50_US'),\n",
    "               (26,  'SPEED_LIMIT_55_US'), \n",
    "               (27,  'SPEED_LIMIT_60_US'),\n",
    "               (28,  'SPEED_LIMIT_65_US'), \n",
    "               (29,  'SPEED_LIMIT_70_US'),\n ",
    "               (30,  'SPEED_LIMIT_75_US'),\n",
    "               (31,  'SPEED_LIMIT_80_US'),\n",
    "               (42,  'TURN_RESTRICTION_U_TURN_LEFT_US'),\n",
    "               (69,  'YIELD_US')))\n",
    "\n",
    "def read_df(metadata):\n",
    "\n",
    "    images = metadata.images    \n",
    "    data_df = pd.DataFrame({\"img_proto\": images})\n",
    "    data_df.loc[:,\"img_name\"] = data_df.loc[:,\"img_proto\"].apply(lambda image: image.metadata.image_path)\n",
    "    data_df.loc[:, \"rois\"] = data_df.loc[:,\"img_proto\"].apply(lambda image:image.rois)\n",
    "    data_df.loc[:, \"nr_rois\"] = data_df.loc[:,\"rois\"].apply(len)\n",
    "    data_df = data_df.drop([\"img_proto\"],axis=1)\n",
    "        \n",
    "    return data_df\n",
    "\n",
    "def explode_rois(data_df):\n",
    "    \n",
    "    rois_df_cols = list(data_df.columns)\n",
    "    rois_df_cols.append(\"roi\")\n",
    "\n",
    "    rows = []\n",
    "    _ = data_df.apply(lambda row: [rows.append(row.tolist() + [nn]) for nn in row.rois], axis=1)\n",
    "\n",
    "    rois_df = pd.DataFrame(rows, columns=rois_df_cols)\n",
    "    \n",
    "    rois_df.loc[:,\"roi_type\"] = rois_df.loc[:,\"roi\"].apply(lambda roi: CLASS_NAME_DICT[roi.type])\n",
    "    \n",
    "    rois_df = rois_df.drop([\"rois\",\"nr_rois\"],axis=1)\n",
    "    \n",
    "    return rois_df\n",
    "\n",
    "def plot_data_df(data_df,nr_images_to_plot):\n",
    "    for _,row in data_df.iloc[:nr_images_to_plot].iterrows():\n",
    "\n",
    "        img_path = os.path.join(images_folder,row[\"img_name\"])\n",
    "        img = np.asarray(PIL.Image.open(img_path))\n",
    "\n",
    "        gt_image_rois = row[\"rois\"]\n",
    "\n",
    "        for roi in gt_image_rois:\n",
    "            tl_col = roi.rect.tl.col\n",
    "            tl_row = roi.rect.tl.row\n",
    "            br_col = roi.rect.br.col\n",
    "            br_row = roi.rect.br.row\n",
    "\n",
    "            img = cv2.rectangle(img, (tl_col,tl_row), (br_col, br_row), (0,255,0), 10)\n",
    "            img = cv2.putText(img, CLASS_NAME_DICT[roi.type], (tl_col-10, tl_row-10), cv2.FONT_HERSHEY_SIMPLEX, 2, (0,255,0), 5)\n",
    "\n",
    "\n",
    "        plt.figure(figsize=(15,15))\n",
    "        plt.imshow(img)\n",
    "        plt.show()\n",
    "        \n",
    "        \n",
    "def plot_roi_df(roi_df,nr_rois_to_plot):\n",
    "    for _,row in roi_df.iloc[:nr_rois_to_plot].iterrows():\n",
    "\n",
    "        img_path = os.path.join(images_folder,row[\"img_name\"])\n",
    "        img = np.asarray(PIL.Image.open(img_path))\n",
    "\n",
    "        roi = row[\"roi\"]\n",
    "\n",
    "        tl_col = roi.rect.tl.col\n",
    "        tl_row = roi.rect.tl.row\n",
    "        br_col = roi.rect.br.col\n",
    "        br_row = roi.rect.br.row\n",
    "\n",
    "        img = cv2.rectangle(img, (tl_col,tl_row), (br_col, br_row), (0,255,0), 10)\n",
    "        img = cv2.putText(img, CLASS_NAME_DICT[roi.type], (tl_col-10, tl_row-10), cv2.FONT_HERSHEY_SIMPLEX, 2, (0,255,0), 5)\n",
    "\n",
    "\n",
    "        plt.figure(figsize=(15,15))\n",
    "        plt.imshow(img)\n",
    "        plt.show()\n",
    "        "
   ]
  },
  {
   "cell_type": "markdown",
   "metadata": {},
   "source": [
    "# 1.Setup Environment"
   ]
  },
  {
   "cell_type": "markdown",
   "metadata": {},
   "source": [
    "Here we will download the zip containing the dataset and then perform some basic manipulations on the images and on the ROIs (region of interest). Below, we will refer to all the labeled ground truth as ROIs\n",
    "\n",
    "This notebook will only work on a Unix-based environment"
   ]
  },
  {
   "cell_type": "markdown",
   "metadata": {},
   "source": [
    "## 1.1 Download zip"
   ]
  },
  {
   "cell_type": "code",
   "execution_count": null,
   "metadata": {},
   "outputs": [],
   "source": [
    "!wget : https://s3.eu-central-1.amazonaws.com/telenav.ai/telenav_ai_dataset_sample.zip"
   ]
  },
  {
   "cell_type": "markdown",
   "metadata": {},
   "source": [
    "## 1.2 Unzip zip file"
   ]
  },
  {
   "cell_type": "code",
   "execution_count": null,
   "metadata": {
    "scrolled": true
   },
   "outputs": [],
   "source": [
    "!unzip telenav_ai_dataset_sample.zip"
   ]
  },
  {
   "cell_type": "markdown",
   "metadata": {},
   "source": [
    "## 1.3 Import necessary proto files"
   ]
  },
  {
   "cell_type": "markdown",
   "metadata": {},
   "source": [
    "When reading the protobuf files, the path to the generated protobuf definitions located in the **protobuf** folder needs to be in your python path.\n",
    "\n",
    "You can also check the structure of the protobuf files in the **protobuf** folder"
   ]
  },
  {
   "cell_type": "code",
   "execution_count": null,
   "metadata": {},
   "outputs": [],
   "source": [
    "sys.path.append(\"./telenav_ai_dataset_sample/protobuf\")\n",
    "import proto_api as proto_api"
   ]
  },
  {
   "cell_type": "markdown",
   "metadata": {},
   "source": [
    "## 1.4 Set Paths"
   ]
  },
  {
   "cell_type": "code",
   "execution_count": null,
   "metadata": {},
   "outputs": [],
   "source": [
    "images_folder = \"./telenav_ai_dataset_sample/sample_data/\"\n",
    "rois_path = os.path.join(images_folder,\"rois.bin\")\n",
    "images_paths = glob(images_folder + \"*[jpg,jpeg]\")"
   ]
  },
  {
   "cell_type": "markdown",
   "metadata": {},
   "source": [
    "# 2 Read Data"
   ]
  },
  {
   "cell_type": "code",
   "execution_count": null,
   "metadata": {},
   "outputs": [],
   "source": [
    "imageset_proto = proto_api.read_metadata(rois_path)\n",
    "data_df = read_df(imageset_proto)\n",
    "data_df.head()"
   ]
  },
  {
   "cell_type": "markdown",
   "metadata": {},
   "source": [
    "## 2.1 Basic Stats"
   ]
  },
  {
   "cell_type": "code",
   "execution_count": null,
   "metadata": {},
   "outputs": [],
   "source": [
    "print(\"Number of images: {}\".format(len(data_df)))\n",
    "print(\"Number of rois: {}\".format(data_df[\"nr_rois\"].sum()))\n",
    "print(\"Count by number of rois in image: \")\n",
    "data_df[\"nr_rois\"].value_counts()"
   ]
  },
  {
   "cell_type": "code",
   "execution_count": null,
   "metadata": {},
   "outputs": [],
   "source": [
    "rois_df = explode_rois(data_df)\n",
    "\n",
    "print(\"Number of ROIs by type: \")\n",
    "rois_df[\"roi_type\"].value_counts()\n"
   ]
  },
  {
   "cell_type": "markdown",
   "metadata": {},
   "source": [
    "## 2.2 Visualize Images with all ROIs"
   ]
  },
  {
   "cell_type": "code",
   "execution_count": null,
   "metadata": {},
   "outputs": [],
   "source": [
    "non_empty_df = data_df[data_df[\"nr_rois\"] != 0]"
   ]
  },
  {
   "cell_type": "code",
   "execution_count": null,
   "metadata": {
    "scrolled": true
   },
   "outputs": [],
   "source": [
    "plot_data_df(non_empty_df,nr_images_to_plot = 10)"
   ]
  },
  {
   "cell_type": "markdown",
   "metadata": {},
   "source": [
    "## 2.3 Visualize ROIs of specific type"
   ]
  },
  {
   "cell_type": "markdown",
   "metadata": {},
   "source": [
    "Note that this visualization is a bit different from the one above, in the sense that each ROI is plotted in a separate figure, even if they are part of the same image. In the visualization above, we plotted an image with all of its ROIs in a single figure"
   ]
  },
  {
   "cell_type": "code",
   "execution_count": null,
   "metadata": {},
   "outputs": [],
   "source": [
    "specific_type_rois_df = rois_df[rois_df[\"roi_type\"] == \"TURN_RESTRICTION_US_RIGHT\"]"
   ]
  },
  {
   "cell_type": "code",
   "execution_count": null,
   "metadata": {
    "scrolled": true
   },
   "outputs": [],
   "source": [
    "plot_roi_df(specific_type_rois_df,nr_rois_to_plot = 10)"
   ]
  },
  {
   "cell_type": "code",
   "execution_count": null,
   "metadata": {},
   "outputs": [],
   "source": []
  }
 ],
 "metadata": {
  "kernelspec": {
   "display_name": "Python 3",
   "language": "python",
   "name": "python3"
  },
  "language_info": {
   "codemirror_mode": {
    "name": "ipython",
    "version": 3
   },
   "file_extension": ".py",
   "mimetype": "text/x-python",
   "name": "python",
   "nbconvert_exporter": "python",
   "pygments_lexer": "ipython3",
   "version": "3.6.5"
  }
 },
 "nbformat": 4,
 "nbformat_minor": 2
}
